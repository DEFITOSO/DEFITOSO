{
  "nbformat": 4,
  "nbformat_minor": 0,
  "metadata": {
    "colab": {
      "provenance": [],
      "include_colab_link": true
    },
    "kernelspec": {
      "name": "python3",
      "display_name": "Python 3"
    },
    "language_info": {
      "name": "python"
    }
  },
  "cells": [
    {
      "cell_type": "markdown",
      "metadata": {
        "id": "view-in-github",
        "colab_type": "text"
      },
      "source": [
        "<a href=\"https://colab.research.google.com/github/DEFITOSO/DEFITOSO/blob/main/ActivationfunctionReLU.ipynb\" target=\"_parent\"><img src=\"https://colab.research.google.com/assets/colab-badge.svg\" alt=\"Open In Colab\"/></a>"
      ]
    },
    {
      "cell_type": "code",
      "execution_count": 1,
      "metadata": {
        "colab": {
          "base_uri": "https://localhost:8080/"
        },
        "id": "4WTvUhvY-0sw",
        "outputId": "5ff32cb3-d973-4076-85d0-cd06ecb40333"
      },
      "outputs": [
        {
          "output_type": "stream",
          "name": "stdout",
          "text": [
            "NOT(0) = 0\n",
            "NOT(1) = 0\n"
          ]
        }
      ],
      "source": [
        "import numpy as np\n",
        "\n",
        "def ReLU(x):\n",
        "  ReLU_x=max(0,x)\n",
        "  return ReLU_x\n",
        "\n",
        "def perceptron(x, w, b):\n",
        "        \"\"\" Function implemented by a perceptron with weight vecto w and bias \"\"\"\n",
        "        v=np.dot(w,x)+b\n",
        "        y=ReLU(v)\n",
        "        return y\n",
        "\n",
        "def NOT_percep(x):\n",
        "      return perceptron(x, w=-1, b=0.5)\n",
        "\n",
        "  # Test\n",
        "print(\"NOT(0) = {}\".format(NOT_percep(0.5)))\n",
        "print(\"NOT(1) = {}\".format(NOT_percep(10)))\n",
        "\n"
      ]
    },
    {
      "cell_type": "code",
      "source": [
        "def AND_percep(x):\n",
        "  w = np.array([1, 1])\n",
        "  b = -1.5\n",
        "  return perceptron(x,w,b)\n",
        "\n",
        "  # Test\n",
        "example1 = np.array([10,1])\n",
        "example2 = np.array([1,0])\n",
        "example3 = np.array([0,1])\n",
        "example4 = np.array([0,0])\n",
        "\n",
        "print(\"AND({}, {}) = {}\".format(1,1,AND_percep(example1)))\n",
        "print(\"AND({}, {}) = {}\".format(1,0,AND_percep(example2)))\n",
        "print(\"AND({}, {}) = {}\".format(0,1,AND_percep(example3)))\n",
        "print(\"AND({}, {}) = {}\".format(0,0,AND_percep(example4)))"
      ],
      "metadata": {
        "colab": {
          "base_uri": "https://localhost:8080/"
        },
        "id": "NL6ZD6YyBURS",
        "outputId": "807bfe0c-8e18-4ab8-9673-a8d3a9109c1f"
      },
      "execution_count": 2,
      "outputs": [
        {
          "output_type": "stream",
          "name": "stdout",
          "text": [
            "AND(1, 1) = 9.5\n",
            "AND(1, 0) = 0\n",
            "AND(0, 1) = 0\n",
            "AND(0, 0) = 0\n"
          ]
        }
      ]
    },
    {
      "cell_type": "code",
      "source": [
        "def OR_percep(x):\n",
        "    w = np.array([1,1])\n",
        "    b = -0.5\n",
        "    return perceptron(x, w, b)\n",
        "\n",
        "#Test\n",
        "example1 = np.array([1,1])\n",
        "example2 = np.array([1,0])\n",
        "example3 = np.array([0,1])\n",
        "example4 = np.array([0,0])\n",
        "\n",
        "print(\"OR({}, {}) = {}\".format(1,1,OR_percep(example1)))\n",
        "print(\"OR({}, {}) = {}\".format(1,0,OR_percep(example2)))\n",
        "print(\"OR({}, {}) = {}\".format(0,1,OR_percep(example3)))\n",
        "print(\"OR({}, {}) = {}\".format(0,0,OR_percep(example4)))"
      ],
      "metadata": {
        "colab": {
          "base_uri": "https://localhost:8080/"
        },
        "id": "CM1OEz-AEcVD",
        "outputId": "bf7d64a3-b399-40e9-d1b1-08ce751824f0"
      },
      "execution_count": 3,
      "outputs": [
        {
          "output_type": "stream",
          "name": "stdout",
          "text": [
            "OR(1, 1) = 1.5\n",
            "OR(1, 0) = 0.5\n",
            "OR(0, 1) = 0.5\n",
            "OR(0, 0) = 0\n"
          ]
        }
      ]
    },
    {
      "cell_type": "code",
      "source": [
        "def XOR_percep(x):\n",
        "  output_AND = AND_percep(x)\n",
        "  output_NOT = NOT_percep(output_AND)\n",
        "  output_OR = OR_percep(x)\n",
        "  x_temp = np.array([output_NOT, output_OR])\n",
        "  output_AND = AND_percep(x_temp)\n",
        "  return output_AND\n",
        "\n",
        "#Test\n",
        "example1 = np.array([10,1])\n",
        "example2 = np.array([10,-5])\n",
        "example3 = np.array([-10,-10])\n",
        "example4 = np.array([1,-10])\n",
        "\n",
        "print(\"XOR({}, {}) = {}\".format(10,1,XOR_percep(example1)))\n",
        "print(\"XOR({}, {}) = {}\".format(10,-5,XOR_percep(example2)))\n",
        "print(\"XOR({}, {}) = {}\".format(-10,-10,XOR_percep(example3)))\n",
        "print(\"XOR({}, {}) = {}\".format(1,-10,XOR_percep(example4)))"
      ],
      "metadata": {
        "id": "5FscxrOJiJU2",
        "colab": {
          "base_uri": "https://localhost:8080/"
        },
        "outputId": "6f219c0a-23c9-423d-85bd-167d1cdcca14"
      },
      "execution_count": 4,
      "outputs": [
        {
          "output_type": "stream",
          "name": "stdout",
          "text": [
            "XOR(10, 1) = 9.0\n",
            "XOR(10, -5) = 3.0\n",
            "XOR(-10, -10) = 0\n",
            "XOR(1, -10) = 0\n"
          ]
        }
      ]
    },
    {
      "cell_type": "code",
      "source": [
        "def XNOR_percep(x):\n",
        "  output_AND = AND_percep(x)\n",
        "  output_NOT1 = NOT_percep(x[0])\n",
        "  output_NOT2 = NOT_percep(x[1])\n",
        "  output_NOT_AND = AND_percep(np.array([output_NOT1, output_NOT2]))\n",
        "  x_temp = np.array([output_AND, output_NOT_AND])\n",
        "  output_OR = OR_percep(x_temp)\n",
        "  return output_OR\n",
        "\n",
        "\n",
        "#Test\n",
        "example1 = np.array([10,1])\n",
        "example2 = np.array([10,-5])\n",
        "example3 = np.array([-10,-10])\n",
        "example4 = np.array([1,-10])\n",
        "\n",
        "print(\"XNOR({}, {}) = {}\".format(10,1,XNOR_percep(example1)))\n",
        "print(\"XNOR({}, {}) = {}\".format(10,-5,XNOR_percep(example2)))\n",
        "print(\"XNOR({}, {}) = {}\".format(-10,-10,XNOR_percep(example3)))\n",
        "print(\"XNOR({}, {}) = {}\".format(1,-10,XNOR_percep(example4)))"
      ],
      "metadata": {
        "id": "Fbfh8k8ukCjx",
        "colab": {
          "base_uri": "https://localhost:8080/"
        },
        "outputId": "558d1c6e-47b3-4120-a0f6-cbe951bb091b"
      },
      "execution_count": 5,
      "outputs": [
        {
          "output_type": "stream",
          "name": "stdout",
          "text": [
            "XNOR(10, 1) = 9.0\n",
            "XNOR(10, -5) = 7.0\n",
            "XNOR(-10, -10) = 19.0\n",
            "XNOR(1, -10) = 8.5\n"
          ]
        }
      ]
    }
  ]
}